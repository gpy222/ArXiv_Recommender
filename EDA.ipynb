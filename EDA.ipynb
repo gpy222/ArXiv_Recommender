{
 "cells": [
  {
   "cell_type": "markdown",
   "metadata": {},
   "source": [
    "# EDA"
   ]
  },
  {
   "cell_type": "code",
   "execution_count": 1,
   "metadata": {},
   "outputs": [],
   "source": [
    "#import relelvent packages\n",
    "import pandas as pd\n",
    "import numpy as np\n",
    "import matplotlib.pyplot as plt\n",
    "import seaborn as sns"
   ]
  },
  {
   "cell_type": "code",
   "execution_count": 2,
   "metadata": {},
   "outputs": [],
   "source": [
    "#read data\n",
    "data = pd.read_pickle('ArXiv/arxiv.pkl')"
   ]
  },
  {
   "cell_type": "code",
   "execution_count": 3,
   "metadata": {},
   "outputs": [
    {
     "data": {
      "text/html": [
       "<div>\n",
       "<style scoped>\n",
       "    .dataframe tbody tr th:only-of-type {\n",
       "        vertical-align: middle;\n",
       "    }\n",
       "\n",
       "    .dataframe tbody tr th {\n",
       "        vertical-align: top;\n",
       "    }\n",
       "\n",
       "    .dataframe thead th {\n",
       "        text-align: right;\n",
       "    }\n",
       "</style>\n",
       "<table border=\"1\" class=\"dataframe\">\n",
       "  <thead>\n",
       "    <tr style=\"text-align: right;\">\n",
       "      <th></th>\n",
       "      <th>id</th>\n",
       "      <th>submitter</th>\n",
       "      <th>authors</th>\n",
       "      <th>title</th>\n",
       "      <th>comments</th>\n",
       "      <th>journal-ref</th>\n",
       "      <th>doi</th>\n",
       "      <th>report-no</th>\n",
       "      <th>categories</th>\n",
       "      <th>license</th>\n",
       "      <th>abstract</th>\n",
       "      <th>versions</th>\n",
       "      <th>update_date</th>\n",
       "      <th>authors_parsed</th>\n",
       "    </tr>\n",
       "  </thead>\n",
       "  <tbody>\n",
       "    <tr>\n",
       "      <th>0</th>\n",
       "      <td>0704.0001</td>\n",
       "      <td>Pavel Nadolsky</td>\n",
       "      <td>C. Bal\\'azs, E. L. Berger, P. M. Nadolsky, C.-P. Yuan</td>\n",
       "      <td>Calculation of prompt diphoton production cross sections at Tevatron and\\n  LHC energies</td>\n",
       "      <td>37 pages, 15 figures; published version</td>\n",
       "      <td>Phys.Rev.D76:013009,2007</td>\n",
       "      <td>10.1103/PhysRevD.76.013009</td>\n",
       "      <td>ANL-HEP-PR-07-12</td>\n",
       "      <td>hep-ph</td>\n",
       "      <td>None</td>\n",
       "      <td>A fully differential calculation in perturbative quantum chromodynamics is\\npresented for the ...</td>\n",
       "      <td>[{'version': 'v1', 'created': 'Mon, 2 Apr 2007 19:18:42 GMT'}, {'version': 'v2', 'created': 'Tue...</td>\n",
       "      <td>2008-11-26</td>\n",
       "      <td>[[Balázs, C., ], [Berger, E. L., ], [Nadolsky, P. M., ], [Yuan, C. -P., ]]</td>\n",
       "    </tr>\n",
       "    <tr>\n",
       "      <th>1</th>\n",
       "      <td>0704.0002</td>\n",
       "      <td>Louis Theran</td>\n",
       "      <td>Ileana Streinu and Louis Theran</td>\n",
       "      <td>Sparsity-certifying Graph Decompositions</td>\n",
       "      <td>To appear in Graphs and Combinatorics</td>\n",
       "      <td>None</td>\n",
       "      <td>None</td>\n",
       "      <td>None</td>\n",
       "      <td>math.CO cs.CG</td>\n",
       "      <td>http://arxiv.org/licenses/nonexclusive-distrib/1.0/</td>\n",
       "      <td>We describe a new algorithm, the $(k,\\ell)$-pebble game with colors, and use\\nit obtain a char...</td>\n",
       "      <td>[{'version': 'v1', 'created': 'Sat, 31 Mar 2007 02:26:18 GMT'}, {'version': 'v2', 'created': 'Sa...</td>\n",
       "      <td>2008-12-13</td>\n",
       "      <td>[[Streinu, Ileana, ], [Theran, Louis, ]]</td>\n",
       "    </tr>\n",
       "    <tr>\n",
       "      <th>2</th>\n",
       "      <td>0704.0003</td>\n",
       "      <td>Hongjun Pan</td>\n",
       "      <td>Hongjun Pan</td>\n",
       "      <td>The evolution of the Earth-Moon system based on the dark matter field\\n  fluid model</td>\n",
       "      <td>23 pages, 3 figures</td>\n",
       "      <td>None</td>\n",
       "      <td>None</td>\n",
       "      <td>None</td>\n",
       "      <td>physics.gen-ph</td>\n",
       "      <td>None</td>\n",
       "      <td>The evolution of Earth-Moon system is described by the dark matter field\\nfluid model proposed...</td>\n",
       "      <td>[{'version': 'v1', 'created': 'Sun, 1 Apr 2007 20:46:54 GMT'}, {'version': 'v2', 'created': 'Sat...</td>\n",
       "      <td>2008-01-13</td>\n",
       "      <td>[[Pan, Hongjun, ]]</td>\n",
       "    </tr>\n",
       "    <tr>\n",
       "      <th>3</th>\n",
       "      <td>0704.0004</td>\n",
       "      <td>David Callan</td>\n",
       "      <td>David Callan</td>\n",
       "      <td>A determinant of Stirling cycle numbers counts unlabeled acyclic\\n  single-source automata</td>\n",
       "      <td>11 pages</td>\n",
       "      <td>None</td>\n",
       "      <td>None</td>\n",
       "      <td>None</td>\n",
       "      <td>math.CO</td>\n",
       "      <td>None</td>\n",
       "      <td>We show that a determinant of Stirling cycle numbers counts unlabeled acyclic\\nsingle-source a...</td>\n",
       "      <td>[{'version': 'v1', 'created': 'Sat, 31 Mar 2007 03:16:14 GMT'}]</td>\n",
       "      <td>2007-05-23</td>\n",
       "      <td>[[Callan, David, ]]</td>\n",
       "    </tr>\n",
       "    <tr>\n",
       "      <th>4</th>\n",
       "      <td>0704.0005</td>\n",
       "      <td>Alberto Torchinsky</td>\n",
       "      <td>Wael Abu-Shammala and Alberto Torchinsky</td>\n",
       "      <td>From dyadic $\\Lambda_{\\alpha}$ to $\\Lambda_{\\alpha}$</td>\n",
       "      <td>None</td>\n",
       "      <td>Illinois J. Math. 52 (2008) no.2, 681-689</td>\n",
       "      <td>None</td>\n",
       "      <td>None</td>\n",
       "      <td>math.CA math.FA</td>\n",
       "      <td>None</td>\n",
       "      <td>In this paper we show how to compute the $\\Lambda_{\\alpha}$ norm, $\\alpha\\ge\\n0$, using the dy...</td>\n",
       "      <td>[{'version': 'v1', 'created': 'Mon, 2 Apr 2007 18:09:58 GMT'}]</td>\n",
       "      <td>2013-10-15</td>\n",
       "      <td>[[Abu-Shammala, Wael, ], [Torchinsky, Alberto, ]]</td>\n",
       "    </tr>\n",
       "  </tbody>\n",
       "</table>\n",
       "</div>"
      ],
      "text/plain": [
       "          id           submitter  \\\n",
       "0  0704.0001      Pavel Nadolsky   \n",
       "1  0704.0002        Louis Theran   \n",
       "2  0704.0003         Hongjun Pan   \n",
       "3  0704.0004        David Callan   \n",
       "4  0704.0005  Alberto Torchinsky   \n",
       "\n",
       "                                                 authors  \\\n",
       "0  C. Bal\\'azs, E. L. Berger, P. M. Nadolsky, C.-P. Yuan   \n",
       "1                        Ileana Streinu and Louis Theran   \n",
       "2                                            Hongjun Pan   \n",
       "3                                           David Callan   \n",
       "4               Wael Abu-Shammala and Alberto Torchinsky   \n",
       "\n",
       "                                                                                        title  \\\n",
       "0    Calculation of prompt diphoton production cross sections at Tevatron and\\n  LHC energies   \n",
       "1                                                    Sparsity-certifying Graph Decompositions   \n",
       "2        The evolution of the Earth-Moon system based on the dark matter field\\n  fluid model   \n",
       "3  A determinant of Stirling cycle numbers counts unlabeled acyclic\\n  single-source automata   \n",
       "4                                        From dyadic $\\Lambda_{\\alpha}$ to $\\Lambda_{\\alpha}$   \n",
       "\n",
       "                                  comments  \\\n",
       "0  37 pages, 15 figures; published version   \n",
       "1    To appear in Graphs and Combinatorics   \n",
       "2                      23 pages, 3 figures   \n",
       "3                                 11 pages   \n",
       "4                                     None   \n",
       "\n",
       "                                 journal-ref                         doi  \\\n",
       "0                   Phys.Rev.D76:013009,2007  10.1103/PhysRevD.76.013009   \n",
       "1                                       None                        None   \n",
       "2                                       None                        None   \n",
       "3                                       None                        None   \n",
       "4  Illinois J. Math. 52 (2008) no.2, 681-689                        None   \n",
       "\n",
       "          report-no       categories  \\\n",
       "0  ANL-HEP-PR-07-12           hep-ph   \n",
       "1              None    math.CO cs.CG   \n",
       "2              None   physics.gen-ph   \n",
       "3              None          math.CO   \n",
       "4              None  math.CA math.FA   \n",
       "\n",
       "                                               license  \\\n",
       "0                                                 None   \n",
       "1  http://arxiv.org/licenses/nonexclusive-distrib/1.0/   \n",
       "2                                                 None   \n",
       "3                                                 None   \n",
       "4                                                 None   \n",
       "\n",
       "                                                                                              abstract  \\\n",
       "0    A fully differential calculation in perturbative quantum chromodynamics is\\npresented for the ...   \n",
       "1    We describe a new algorithm, the $(k,\\ell)$-pebble game with colors, and use\\nit obtain a char...   \n",
       "2    The evolution of Earth-Moon system is described by the dark matter field\\nfluid model proposed...   \n",
       "3    We show that a determinant of Stirling cycle numbers counts unlabeled acyclic\\nsingle-source a...   \n",
       "4    In this paper we show how to compute the $\\Lambda_{\\alpha}$ norm, $\\alpha\\ge\\n0$, using the dy...   \n",
       "\n",
       "                                                                                              versions  \\\n",
       "0  [{'version': 'v1', 'created': 'Mon, 2 Apr 2007 19:18:42 GMT'}, {'version': 'v2', 'created': 'Tue...   \n",
       "1  [{'version': 'v1', 'created': 'Sat, 31 Mar 2007 02:26:18 GMT'}, {'version': 'v2', 'created': 'Sa...   \n",
       "2  [{'version': 'v1', 'created': 'Sun, 1 Apr 2007 20:46:54 GMT'}, {'version': 'v2', 'created': 'Sat...   \n",
       "3                                      [{'version': 'v1', 'created': 'Sat, 31 Mar 2007 03:16:14 GMT'}]   \n",
       "4                                       [{'version': 'v1', 'created': 'Mon, 2 Apr 2007 18:09:58 GMT'}]   \n",
       "\n",
       "  update_date  \\\n",
       "0  2008-11-26   \n",
       "1  2008-12-13   \n",
       "2  2008-01-13   \n",
       "3  2007-05-23   \n",
       "4  2013-10-15   \n",
       "\n",
       "                                                               authors_parsed  \n",
       "0  [[Balázs, C., ], [Berger, E. L., ], [Nadolsky, P. M., ], [Yuan, C. -P., ]]  \n",
       "1                                    [[Streinu, Ileana, ], [Theran, Louis, ]]  \n",
       "2                                                          [[Pan, Hongjun, ]]  \n",
       "3                                                         [[Callan, David, ]]  \n",
       "4                           [[Abu-Shammala, Wael, ], [Torchinsky, Alberto, ]]  "
      ]
     },
     "execution_count": 3,
     "metadata": {},
     "output_type": "execute_result"
    }
   ],
   "source": [
    "#examine data\n",
    "pd.set_option('display.max_colwidth', 100)\n",
    "data.head()"
   ]
  },
  {
   "cell_type": "markdown",
   "metadata": {},
   "source": [
    "## General Data Info"
   ]
  },
  {
   "cell_type": "code",
   "execution_count": 4,
   "metadata": {},
   "outputs": [
    {
     "name": "stdout",
     "output_type": "stream",
     "text": [
      "<class 'pandas.core.frame.DataFrame'>\n",
      "RangeIndex: 1753042 entries, 0 to 1753041\n",
      "Data columns (total 14 columns):\n",
      "id                object\n",
      "submitter         object\n",
      "authors           object\n",
      "title             object\n",
      "comments          object\n",
      "journal-ref       object\n",
      "doi               object\n",
      "report-no         object\n",
      "categories        object\n",
      "license           object\n",
      "abstract          object\n",
      "versions          object\n",
      "update_date       object\n",
      "authors_parsed    object\n",
      "dtypes: object(14)\n",
      "memory usage: 187.2+ MB\n"
     ]
    }
   ],
   "source": [
    "data.info()"
   ]
  },
  {
   "cell_type": "markdown",
   "metadata": {},
   "source": [
    "## Authors Info"
   ]
  },
  {
   "cell_type": "code",
   "execution_count": 5,
   "metadata": {},
   "outputs": [],
   "source": [
    "#find number of authors per article\n",
    "num_authors = [len(ls) for ls in data.authors_parsed]"
   ]
  },
  {
   "cell_type": "code",
   "execution_count": 6,
   "metadata": {},
   "outputs": [],
   "source": [
    "#add feature to data\n",
    "data['num_authors'] = num_authors"
   ]
  },
  {
   "cell_type": "code",
   "execution_count": 7,
   "metadata": {},
   "outputs": [
    {
     "data": {
      "text/plain": [
       "count    1.753042e+06\n",
       "mean     4.146040e+00\n",
       "std      2.023027e+01\n",
       "min      1.000000e+00\n",
       "25%      2.000000e+00\n",
       "50%      3.000000e+00\n",
       "75%      4.000000e+00\n",
       "max      2.832000e+03\n",
       "Name: num_authors, dtype: float64"
      ]
     },
     "execution_count": 7,
     "metadata": {},
     "output_type": "execute_result"
    }
   ],
   "source": [
    "#get feature info\n",
    "data.num_authors.describe()"
   ]
  },
  {
   "cell_type": "code",
   "execution_count": 8,
   "metadata": {},
   "outputs": [
    {
     "data": {
      "text/html": [
       "<div>\n",
       "<style scoped>\n",
       "    .dataframe tbody tr th:only-of-type {\n",
       "        vertical-align: middle;\n",
       "    }\n",
       "\n",
       "    .dataframe tbody tr th {\n",
       "        vertical-align: top;\n",
       "    }\n",
       "\n",
       "    .dataframe thead th {\n",
       "        text-align: right;\n",
       "    }\n",
       "</style>\n",
       "<table border=\"1\" class=\"dataframe\">\n",
       "  <thead>\n",
       "    <tr style=\"text-align: right;\">\n",
       "      <th></th>\n",
       "      <th>id</th>\n",
       "      <th>submitter</th>\n",
       "      <th>authors</th>\n",
       "      <th>title</th>\n",
       "      <th>comments</th>\n",
       "      <th>journal-ref</th>\n",
       "      <th>doi</th>\n",
       "      <th>report-no</th>\n",
       "      <th>categories</th>\n",
       "      <th>license</th>\n",
       "      <th>abstract</th>\n",
       "      <th>versions</th>\n",
       "      <th>update_date</th>\n",
       "      <th>authors_parsed</th>\n",
       "      <th>num_authors</th>\n",
       "    </tr>\n",
       "  </thead>\n",
       "  <tbody>\n",
       "    <tr>\n",
       "      <th>574385</th>\n",
       "      <td>1411.4413</td>\n",
       "      <td>Marc-Olivier Bettler</td>\n",
       "      <td>The CMS and LHCb Collaborations: V. Khachatryan, A.M. Sirunyan, A.\\n  Tumasyan, W. Adam, T. Berg...</td>\n",
       "      <td>Observation of the rare $B^0_s\\to\\mu^+\\mu^-$ decay from the combined\\n  analysis of CMS and LHCb...</td>\n",
       "      <td>Correspondence should be addressed to\\n  cms-and-lhcb-publication-committees@cern.ch</td>\n",
       "      <td>Nature 522, 68-72 (04 June 2015)</td>\n",
       "      <td>10.1038/nature14474</td>\n",
       "      <td>CERN-PH-EP-2014-220, CMS-BPH-13-007, LHCb-PAPER-2014-049</td>\n",
       "      <td>hep-ex hep-ph</td>\n",
       "      <td>http://creativecommons.org/licenses/by/4.0/</td>\n",
       "      <td>A joint measurement is presented of the branching fractions\\n$B^0_s\\to\\mu^+\\mu^-$ and $B^0\\to\\...</td>\n",
       "      <td>[{'version': 'v1', 'created': 'Mon, 17 Nov 2014 10:10:25 GMT'}, {'version': 'v2', 'created': 'Mo...</td>\n",
       "      <td>2016-08-10</td>\n",
       "      <td>[[CMS, The, ], [Collaborations, LHCb, ], [:, , ], [Khachatryan, V., ], [Sirunyan, A. M., ], [Tum...</td>\n",
       "      <td>2832</td>\n",
       "    </tr>\n",
       "  </tbody>\n",
       "</table>\n",
       "</div>"
      ],
      "text/plain": [
       "               id             submitter  \\\n",
       "574385  1411.4413  Marc-Olivier Bettler   \n",
       "\n",
       "                                                                                                    authors  \\\n",
       "574385  The CMS and LHCb Collaborations: V. Khachatryan, A.M. Sirunyan, A.\\n  Tumasyan, W. Adam, T. Berg...   \n",
       "\n",
       "                                                                                                      title  \\\n",
       "574385  Observation of the rare $B^0_s\\to\\mu^+\\mu^-$ decay from the combined\\n  analysis of CMS and LHCb...   \n",
       "\n",
       "                                                                                    comments  \\\n",
       "574385  Correspondence should be addressed to\\n  cms-and-lhcb-publication-committees@cern.ch   \n",
       "\n",
       "                             journal-ref                  doi  \\\n",
       "574385  Nature 522, 68-72 (04 June 2015)  10.1038/nature14474   \n",
       "\n",
       "                                                       report-no  \\\n",
       "574385  CERN-PH-EP-2014-220, CMS-BPH-13-007, LHCb-PAPER-2014-049   \n",
       "\n",
       "           categories                                      license  \\\n",
       "574385  hep-ex hep-ph  http://creativecommons.org/licenses/by/4.0/   \n",
       "\n",
       "                                                                                                   abstract  \\\n",
       "574385    A joint measurement is presented of the branching fractions\\n$B^0_s\\to\\mu^+\\mu^-$ and $B^0\\to\\...   \n",
       "\n",
       "                                                                                                   versions  \\\n",
       "574385  [{'version': 'v1', 'created': 'Mon, 17 Nov 2014 10:10:25 GMT'}, {'version': 'v2', 'created': 'Mo...   \n",
       "\n",
       "       update_date  \\\n",
       "574385  2016-08-10   \n",
       "\n",
       "                                                                                             authors_parsed  \\\n",
       "574385  [[CMS, The, ], [Collaborations, LHCb, ], [:, , ], [Khachatryan, V., ], [Sirunyan, A. M., ], [Tum...   \n",
       "\n",
       "        num_authors  \n",
       "574385         2832  "
      ]
     },
     "execution_count": 8,
     "metadata": {},
     "output_type": "execute_result"
    }
   ],
   "source": [
    "most_collaborative_paper = data.iloc[[np.argmax(num_authors)]]\n",
    "most_collaborative_paper"
   ]
  },
  {
   "cell_type": "code",
   "execution_count": 9,
   "metadata": {},
   "outputs": [
    {
     "data": {
      "text/plain": [
       "<matplotlib.axes._subplots.AxesSubplot at 0x7f74e5b7bc50>"
      ]
     },
     "execution_count": 9,
     "metadata": {},
     "output_type": "execute_result"
    },
    {
     "data": {
      "image/png": "[encoded data removed]",
      "text/plain": [
       "<Figure size 432x288 with 1 Axes>"
      ]
     },
     "metadata": {
      "needs_background": "light"
     },
     "output_type": "display_data"
    }
   ],
   "source": [
    "#view upper tail of distribution\n",
    "data.num_authors[data.num_authors > 50].hist(bins = 50)"
   ]
  },
  {
   "cell_type": "code",
   "execution_count": 10,
   "metadata": {},
   "outputs": [
    {
     "name": "stdout",
     "output_type": "stream",
     "text": [
      "7268183\n",
      "\n",
      "[' Anjos by the E791 Collaboration', ' Atmospheric Neutrino Experiments Working Group', ' Gasik fo the ALICE Collaboration', ' Hayasaka for Belle collaboration', ' KTeV Collaboration', ' S Collaboration', ' S Collaboration', ' S Collaboration', ' Sasaki for HAL QCD collaboration', ' Sasaki for HAL QCD collaboration', '\"OgelmanH.', '\"OztasA. M.', '\"OztasA. M.', '\"ors', '\"oser', '$^{1}$', '%Geunho Song', '%J. Zhao', '%M. Steinacher', \"'Abrah'amP'eter\"]\n"
     ]
    }
   ],
   "source": [
    "#get a list of all authors credited (last name first name format)\n",
    "authors_ls = sorted([author[0] + author[1] for ls in data.authors_parsed for author in ls])\n",
    "assert(len(authors_ls) == sum(num_authors))\n",
    "print(len(authors_ls))\n",
    "print()\n",
    "print(authors_ls[:20])"
   ]
  },
  {
   "cell_type": "markdown",
   "metadata": {},
   "source": [
    "Here we find a couple issues with the parsed authors data. Institutions are included as authors, spaces and other extraneous characters are found at the beginning of author names, and some 'authors' consist entirely of non-alpha characters. We can alleviate the last two issues using Regex, but the inclusion of institutional names will be too difficult to filter out. In fact, it may benefit us to leave them in as this represents another aspect of similarity between papers."
   ]
  },
  {
   "cell_type": "code",
   "execution_count": 11,
   "metadata": {},
   "outputs": [],
   "source": [
    "#create new authors feature wihout spaces or non-alpha characters\n",
    "import re\n",
    "authors_new = [[re.sub('[^a-z]', '', (author[0] + author[1]).lower()) for author in ls] for ls in data.authors_parsed]\n",
    "assert(len(authors_new) == len(data))"
   ]
  },
  {
   "cell_type": "code",
   "execution_count": 12,
   "metadata": {},
   "outputs": [],
   "source": [
    "#remove empty strings\n",
    "authors_new = [[author for author in ls if author] for ls in authors_new]"
   ]
  },
  {
   "cell_type": "code",
   "execution_count": 13,
   "metadata": {},
   "outputs": [
    {
     "data": {
      "text/plain": [
       "[['balzsc', 'bergerel', 'nadolskypm', 'yuancp'],\n",
       " ['streinuileana', 'theranlouis'],\n",
       " ['panhongjun'],\n",
       " ['callandavid'],\n",
       " ['abushammalawael', 'torchinskyalberto'],\n",
       " ['pongyh', 'lawck'],\n",
       " ['corichialejandro', 'vukasinactatjana', 'zapatajosea'],\n",
       " ['swiftdamianc'],\n",
       " ['harveypaul',\n",
       "  'merinbruno',\n",
       "  'huardtracyl',\n",
       "  'rebullluisam',\n",
       "  'chapmannicholas',\n",
       "  'evansnealj',\n",
       "  'myersphilipc'],\n",
       " ['ovchinnikovsergei']]"
      ]
     },
     "execution_count": 13,
     "metadata": {},
     "output_type": "execute_result"
    }
   ],
   "source": [
    "#examine\n",
    "authors_new[:10]"
   ]
  },
  {
   "cell_type": "code",
   "execution_count": 14,
   "metadata": {},
   "outputs": [],
   "source": [
    "data['authors_new'] = authors_new"
   ]
  },
  {
   "cell_type": "markdown",
   "metadata": {},
   "source": [
    "## Abstracts"
   ]
  },
  {
   "cell_type": "code",
   "execution_count": 15,
   "metadata": {},
   "outputs": [],
   "source": [
    "#determine word count of abstracts\n",
    "abstract_length = [len(ls) for ls in data.abstract.str.split(' ')]"
   ]
  },
  {
   "cell_type": "code",
   "execution_count": 16,
   "metadata": {},
   "outputs": [],
   "source": [
    "#add as feature\n",
    "data['abstract_length'] = abstract_length"
   ]
  },
  {
   "cell_type": "code",
   "execution_count": 17,
   "metadata": {},
   "outputs": [
    {
     "data": {
      "text/plain": [
       "count    1.753042e+06\n",
       "mean     1.236823e+02\n",
       "std      5.849431e+01\n",
       "min      3.000000e+00\n",
       "25%      8.000000e+01\n",
       "50%      1.150000e+02\n",
       "75%      1.610000e+02\n",
       "max      8.480000e+02\n",
       "Name: abstract_length, dtype: float64"
      ]
     },
     "execution_count": 17,
     "metadata": {},
     "output_type": "execute_result"
    }
   ],
   "source": [
    "#examine\n",
    "data.abstract_length.describe()"
   ]
  },
  {
   "cell_type": "code",
   "execution_count": 18,
   "metadata": {},
   "outputs": [],
   "source": [
    "shortest_abstract_article = data.iloc[[np.argmin(abstract_length)]]"
   ]
  },
  {
   "cell_type": "code",
   "execution_count": 19,
   "metadata": {},
   "outputs": [
    {
     "data": {
      "text/html": [
       "<div>\n",
       "<style scoped>\n",
       "    .dataframe tbody tr th:only-of-type {\n",
       "        vertical-align: middle;\n",
       "    }\n",
       "\n",
       "    .dataframe tbody tr th {\n",
       "        vertical-align: top;\n",
       "    }\n",
       "\n",
       "    .dataframe thead th {\n",
       "        text-align: right;\n",
       "    }\n",
       "</style>\n",
       "<table border=\"1\" class=\"dataframe\">\n",
       "  <thead>\n",
       "    <tr style=\"text-align: right;\">\n",
       "      <th></th>\n",
       "      <th>id</th>\n",
       "      <th>submitter</th>\n",
       "      <th>authors</th>\n",
       "      <th>title</th>\n",
       "      <th>comments</th>\n",
       "      <th>journal-ref</th>\n",
       "      <th>doi</th>\n",
       "      <th>report-no</th>\n",
       "      <th>categories</th>\n",
       "      <th>license</th>\n",
       "      <th>abstract</th>\n",
       "      <th>versions</th>\n",
       "      <th>update_date</th>\n",
       "      <th>authors_parsed</th>\n",
       "      <th>num_authors</th>\n",
       "      <th>authors_new</th>\n",
       "      <th>abstract_length</th>\n",
       "    </tr>\n",
       "  </thead>\n",
       "  <tbody>\n",
       "    <tr>\n",
       "      <th>766954</th>\n",
       "      <td>1609.01476</td>\n",
       "      <td>Giancarlo Garnero</td>\n",
       "      <td>Daniel Burgarth, Paolo Facchi, Giancarlo Garnero, Hiromichi Nakazato,\\n  Saverio Pascazio and Ka...</td>\n",
       "      <td>Can decay be ascribed to classical noise?</td>\n",
       "      <td>11 pages</td>\n",
       "      <td>Open Systems &amp; Information Dynamics 24 (2017) 1750001</td>\n",
       "      <td>10.1142/S1230161217500019</td>\n",
       "      <td>None</td>\n",
       "      <td>quant-ph math-ph math.MP</td>\n",
       "      <td>http://arxiv.org/licenses/nonexclusive-distrib/1.0/</td>\n",
       "      <td>No.\\n</td>\n",
       "      <td>[{'version': 'v1', 'created': 'Tue, 6 Sep 2016 10:18:58 GMT'}, {'version': 'v2', 'created': 'Tue...</td>\n",
       "      <td>2017-05-10</td>\n",
       "      <td>[[Burgarth, Daniel, ], [Facchi, Paolo, ], [Garnero, Giancarlo, ], [Nakazato, Hiromichi, ], [Pasc...</td>\n",
       "      <td>6</td>\n",
       "      <td>[burgarthdaniel, facchipaolo, garnerogiancarlo, nakazatohiromichi, pascaziosaverio, yuasakazuya]</td>\n",
       "      <td>3</td>\n",
       "    </tr>\n",
       "  </tbody>\n",
       "</table>\n",
       "</div>"
      ],
      "text/plain": [
       "                id          submitter  \\\n",
       "766954  1609.01476  Giancarlo Garnero   \n",
       "\n",
       "                                                                                                    authors  \\\n",
       "766954  Daniel Burgarth, Paolo Facchi, Giancarlo Garnero, Hiromichi Nakazato,\\n  Saverio Pascazio and Ka...   \n",
       "\n",
       "                                            title  comments  \\\n",
       "766954  Can decay be ascribed to classical noise?  11 pages   \n",
       "\n",
       "                                                  journal-ref  \\\n",
       "766954  Open Systems & Information Dynamics 24 (2017) 1750001   \n",
       "\n",
       "                              doi report-no                categories  \\\n",
       "766954  10.1142/S1230161217500019      None  quant-ph math-ph math.MP   \n",
       "\n",
       "                                                    license abstract  \\\n",
       "766954  http://arxiv.org/licenses/nonexclusive-distrib/1.0/    No.\\n   \n",
       "\n",
       "                                                                                                   versions  \\\n",
       "766954  [{'version': 'v1', 'created': 'Tue, 6 Sep 2016 10:18:58 GMT'}, {'version': 'v2', 'created': 'Tue...   \n",
       "\n",
       "       update_date  \\\n",
       "766954  2017-05-10   \n",
       "\n",
       "                                                                                             authors_parsed  \\\n",
       "766954  [[Burgarth, Daniel, ], [Facchi, Paolo, ], [Garnero, Giancarlo, ], [Nakazato, Hiromichi, ], [Pasc...   \n",
       "\n",
       "        num_authors  \\\n",
       "766954            6   \n",
       "\n",
       "                                                                                             authors_new  \\\n",
       "766954  [burgarthdaniel, facchipaolo, garnerogiancarlo, nakazatohiromichi, pascaziosaverio, yuasakazuya]   \n",
       "\n",
       "        abstract_length  \n",
       "766954                3  "
      ]
     },
     "execution_count": 19,
     "metadata": {},
     "output_type": "execute_result"
    }
   ],
   "source": [
    "shortest_abstract_article"
   ]
  },
  {
   "cell_type": "code",
   "execution_count": 20,
   "metadata": {},
   "outputs": [
    {
     "data": {
      "text/plain": [
       "<matplotlib.axes._subplots.AxesSubplot at 0x7f74427f0dd8>"
      ]
     },
     "execution_count": 20,
     "metadata": {},
     "output_type": "execute_result"
    },
    {
     "data": {
      "image/png": "[encoded data removed]",
      "text/plain": [
       "<Figure size 432x288 with 1 Axes>"
      ]
     },
     "metadata": {
      "needs_background": "light"
     },
     "output_type": "display_data"
    }
   ],
   "source": [
    "#examine distribution of data\n",
    "data.abstract_length.hist(bins = 50)"
   ]
  },
  {
   "cell_type": "markdown",
   "metadata": {},
   "source": [
    "## Categories"
   ]
  },
  {
   "cell_type": "code",
   "execution_count": 21,
   "metadata": {},
   "outputs": [],
   "source": [
    "#get list of all categories used\n",
    "categories = list(data.categories.str.split(' '))\n",
    "num_categories = [len(ls) for ls in categories]\n",
    "categories_ls = [category for ls in categories for category in ls]"
   ]
  },
  {
   "cell_type": "code",
   "execution_count": 22,
   "metadata": {},
   "outputs": [],
   "source": [
    "assert(len(categories_ls) == sum(num_categories))"
   ]
  },
  {
   "cell_type": "code",
   "execution_count": 23,
   "metadata": {},
   "outputs": [
    {
     "name": "stdout",
     "output_type": "stream",
     "text": [
      "176\n"
     ]
    }
   ],
   "source": [
    "#get set of unique categories used\n",
    "categories_set = set(categories_ls)\n",
    "print(len(categories_set))"
   ]
  },
  {
   "cell_type": "code",
   "execution_count": 24,
   "metadata": {},
   "outputs": [],
   "source": [
    "#theoretical categories set from the ArXiv taxonomy page\n",
    "categories_theor = 'cs.AI, cs.AR, cs.CC, cs.CE, cs.CG, cs.CL, cs.CR, cs.CV, cs.CY, cs.DB, cs.DC, cs.DL, cs.DM, cs.DS, cs.ET, cs.FL, cs.GL, cs.GR, cs.GT, cs.HC, cs.IR, cs.IT, cs.LG, cs.LO, cs.MA, cs.MM, cs.MS, cs.NA, cs.NE, cs.NI, cs.OH, cs.OS, cs.PF, cs.PL, cs.RO, cs.SC, cs.SD, cs.SE, cs.SI, cs.SY, econ.EM, econ.GN, econ.TH, eess.AS, eess.IV, eess.SP, eess.SY, math.AC, math.AG, math.AP, math.AT, math.CA, math.CO, math.CT, math.CV, math.DG, math.DS, math.FA, math.GM, math.GN, math.GR, math.GT, math.HO, math.IT, math.KT, math.LO, math.MG, math.MP, math.NA, math.NT, math.OA, math.OC, math.PR, math.QA, math.RA, math.RT, math.SG, math.SP, math.ST, astro-ph.CO, astro-ph.EP, astro-ph.GA, astro-ph.HE, astro-ph.IM, astro-ph.SR, cond-mat.dis-nn, cond-mat.mes-hall, cond-mat.mtrl-sci, cond-mat.other, cond-mat.quant-gas, cond-mat.soft, cond-mat.stat-mech, cond-mat.str-el, cond-mat.supr-con, gr-qc, hep-ex, hep-lat, hep-ph, hep-th, math-ph, nlin.AO, nlin.CD, nlin.CG, nlin.PS, nlin.SI, nucl-ex, nucl-th, physics.acc-ph, physics.ao-ph, physics.app-ph, physics.atm-clus, physics.atom-ph, physics.bio-ph, physics.chem-ph, physics.class-ph, physics.comp-ph, physics.data-an, physics.ed-ph, physics.flu-dyn, physics.gen-ph, physics.hist-ph, physics.ins-det, physics.med-ph, physics.optics, physics.plasm-ph, physics.pop-ph, physics.soc-ph, physics.space-ph, quant-ph, q-bio.BM, q-bio.CB, q-bio.GN, q-bio.MN, q-bio.NC, q-bio.OT, q-bio.PE, q-bio.QM, q-bio.SC, q-bio.TO, q-fin.CP, q-fin.EC, q-fin.GN, q-fin.MF, q-fin.PM, q-fin.PR, q-fin.RM, q-fin.ST, q-fin.TR, stat.AP, stat.CO, stat.ME, stat.ML, stat.OT, stat.TH'"
   ]
  },
  {
   "cell_type": "code",
   "execution_count": 25,
   "metadata": {},
   "outputs": [],
   "source": [
    "categories_theor = categories_theor.split(', ')"
   ]
  },
  {
   "cell_type": "code",
   "execution_count": 26,
   "metadata": {},
   "outputs": [],
   "source": [
    "#create set difference between theoretical and empirical categories\n",
    "diff1 = categories_set.difference(set(categories_theor))\n",
    "diff2 = set(categories_theor).difference(categories_set)"
   ]
  },
  {
   "cell_type": "code",
   "execution_count": 213,
   "metadata": {},
   "outputs": [
    {
     "name": "stdout",
     "output_type": "stream",
     "text": [
      "Categories which are not officially listed but appear in ArXiv\n",
      "{'funct-an', 'ao-sci', 'plasm-ph', 'adap-org', 'solv-int', 'chao-dyn', 'acc-phys', 'mtrl-th', 'q-alg', 'bayes-an', 'cond-mat', 'patt-sol', 'atom-ph', 'chem-ph', 'physics.geo-ph', 'q-bio', 'dg-ga', 'alg-geom', 'supr-con', 'comp-gas', 'cmp-lg', 'astro-ph'}\n",
      "\n",
      "Categories which do not appear in ArXiv but are officially listed\n",
      "set()\n"
     ]
    }
   ],
   "source": [
    "print('Categories which are not officially listed but appear in ArXiv')\n",
    "print(diff1)\n",
    "print()\n",
    "print('Categories which do not appear in ArXiv but are officially listed')\n",
    "print(diff2)"
   ]
  },
  {
   "cell_type": "code",
   "execution_count": 28,
   "metadata": {},
   "outputs": [],
   "source": [
    "#count number of occurences of each category\n",
    "value_counts = sorted([[category, categories_ls.count(category)] for category in categories_set], key = lambda x: x[1])"
   ]
  },
  {
   "cell_type": "code",
   "execution_count": 29,
   "metadata": {},
   "outputs": [
    {
     "data": {
      "text/plain": [
       "[['math-ph', 62549],\n",
       " ['math.MP', 62549],\n",
       " ['cs.LG', 63516],\n",
       " ['cond-mat.mtrl-sci', 65923],\n",
       " ['cond-mat.mes-hall', 69632],\n",
       " ['gr-qc', 83449],\n",
       " ['astro-ph', 105380],\n",
       " ['quant-ph', 106044],\n",
       " ['hep-th', 138724],\n",
       " ['hep-ph', 151752]]"
      ]
     },
     "execution_count": 29,
     "metadata": {},
     "output_type": "execute_result"
    }
   ],
   "source": [
    "#10 most common categories\n",
    "value_counts[-10:]"
   ]
  },
  {
   "cell_type": "code",
   "execution_count": 30,
   "metadata": {},
   "outputs": [
    {
     "data": {
      "image/png": "[encoded data removed]",
      "text/plain": [
       "<Figure size 432x288 with 1 Axes>"
      ]
     },
     "metadata": {
      "needs_background": "light"
     },
     "output_type": "display_data"
    }
   ],
   "source": [
    "#plot distribution of category counts\n",
    "plt.hist([x[1] for x in value_counts], bins = 25)\n",
    "plt.show()"
   ]
  },
  {
   "cell_type": "markdown",
   "metadata": {},
   "source": [
    "## Assumption Check"
   ]
  },
  {
   "cell_type": "code",
   "execution_count": 31,
   "metadata": {},
   "outputs": [
    {
     "name": "stdout",
     "output_type": "stream",
     "text": [
      "1753039\n",
      "1753042\n"
     ]
    }
   ],
   "source": [
    "#make sure all ids are unique\n",
    "ids = data.id.unique()\n",
    "print(len(ids))\n",
    "print(len(data))"
   ]
  },
  {
   "cell_type": "code",
   "execution_count": 32,
   "metadata": {},
   "outputs": [
    {
     "data": {
      "text/plain": [
       "math-ph/0212014     2\n",
       "math-ph/0408005     2\n",
       "math-ph/0409039     2\n",
       "1504.01811          1\n",
       "1607.05436          1\n",
       "                   ..\n",
       "0901.3926           1\n",
       "1801.02731          1\n",
       "astro-ph/0003034    1\n",
       "1705.04398          1\n",
       "math/0509121        1\n",
       "Name: id, Length: 1753039, dtype: int64"
      ]
     },
     "execution_count": 32,
     "metadata": {},
     "output_type": "execute_result"
    }
   ],
   "source": [
    "#we see there are most 3 non-unique ids\n",
    "#use value ocunts to find the repeated ids\n",
    "data.id.value_counts()"
   ]
  },
  {
   "cell_type": "code",
   "execution_count": 33,
   "metadata": {},
   "outputs": [
    {
     "data": {
      "text/html": [
       "<div>\n",
       "<style scoped>\n",
       "    .dataframe tbody tr th:only-of-type {\n",
       "        vertical-align: middle;\n",
       "    }\n",
       "\n",
       "    .dataframe tbody tr th {\n",
       "        vertical-align: top;\n",
       "    }\n",
       "\n",
       "    .dataframe thead th {\n",
       "        text-align: right;\n",
       "    }\n",
       "</style>\n",
       "<table border=\"1\" class=\"dataframe\">\n",
       "  <thead>\n",
       "    <tr style=\"text-align: right;\">\n",
       "      <th></th>\n",
       "      <th>id</th>\n",
       "      <th>submitter</th>\n",
       "      <th>authors</th>\n",
       "      <th>title</th>\n",
       "      <th>comments</th>\n",
       "      <th>journal-ref</th>\n",
       "      <th>doi</th>\n",
       "      <th>report-no</th>\n",
       "      <th>categories</th>\n",
       "      <th>license</th>\n",
       "      <th>abstract</th>\n",
       "      <th>versions</th>\n",
       "      <th>update_date</th>\n",
       "      <th>authors_parsed</th>\n",
       "      <th>num_authors</th>\n",
       "      <th>authors_new</th>\n",
       "      <th>abstract_length</th>\n",
       "    </tr>\n",
       "  </thead>\n",
       "  <tbody>\n",
       "    <tr>\n",
       "      <th>1636693</th>\n",
       "      <td>math-ph/0212014</td>\n",
       "      <td>Pedro P. de M. Rios.</td>\n",
       "      <td>Pedro de M. Rios</td>\n",
       "      <td>A semiclassically entangled puzzle</td>\n",
       "      <td>Letter, 5 pages</td>\n",
       "      <td>J. Phys. A, 40 (2007) F1047-F1052 [revised version, open access]</td>\n",
       "      <td>None</td>\n",
       "      <td>None</td>\n",
       "      <td>math-ph math.MP quant-ph</td>\n",
       "      <td>None</td>\n",
       "      <td>For a maximally entangled eigenstate of a system of two non-interacting\\nidentical one dimensi...</td>\n",
       "      <td>[{'version': 'v1', 'created': 'Wed, 4 Dec 2002 01:34:01 GMT'}]</td>\n",
       "      <td>2014-03-12</td>\n",
       "      <td>[[Rios, Pedro de M., ]]</td>\n",
       "      <td>1</td>\n",
       "      <td>[riospedrodem]</td>\n",
       "      <td>53</td>\n",
       "    </tr>\n",
       "    <tr>\n",
       "      <th>1689945</th>\n",
       "      <td>math-ph/0212014</td>\n",
       "      <td>Pedro P. de M. Rios.</td>\n",
       "      <td>Pedro de M. Rios</td>\n",
       "      <td>A semiclassically entangled puzzle</td>\n",
       "      <td>Letter, 5 pages</td>\n",
       "      <td>J. Phys. A, 40 (2007) F1047-F1052</td>\n",
       "      <td>10.1088/1751-8113/40/49/F02</td>\n",
       "      <td>None</td>\n",
       "      <td>math-ph math.MP math.SG quant-ph</td>\n",
       "      <td>None</td>\n",
       "      <td>For a maximally entangled eigenstate of a system of two non-interacting\\nidentical one dimensi...</td>\n",
       "      <td>[{'version': 'v1', 'created': 'Wed, 4 Dec 2002 01:34:01 GMT'}]</td>\n",
       "      <td>2020-08-20</td>\n",
       "      <td>[[Rios, Pedro de M., ]]</td>\n",
       "      <td>1</td>\n",
       "      <td>[riospedrodem]</td>\n",
       "      <td>53</td>\n",
       "    </tr>\n",
       "  </tbody>\n",
       "</table>\n",
       "</div>"
      ],
      "text/plain": [
       "                      id             submitter           authors  \\\n",
       "1636693  math-ph/0212014  Pedro P. de M. Rios.  Pedro de M. Rios   \n",
       "1689945  math-ph/0212014  Pedro P. de M. Rios.  Pedro de M. Rios   \n",
       "\n",
       "                                      title         comments  \\\n",
       "1636693  A semiclassically entangled puzzle  Letter, 5 pages   \n",
       "1689945  A semiclassically entangled puzzle  Letter, 5 pages   \n",
       "\n",
       "                                                              journal-ref  \\\n",
       "1636693  J. Phys. A, 40 (2007) F1047-F1052 [revised version, open access]   \n",
       "1689945                                 J. Phys. A, 40 (2007) F1047-F1052   \n",
       "\n",
       "                                 doi report-no  \\\n",
       "1636693                         None      None   \n",
       "1689945  10.1088/1751-8113/40/49/F02      None   \n",
       "\n",
       "                               categories license  \\\n",
       "1636693          math-ph math.MP quant-ph    None   \n",
       "1689945  math-ph math.MP math.SG quant-ph    None   \n",
       "\n",
       "                                                                                                    abstract  \\\n",
       "1636693    For a maximally entangled eigenstate of a system of two non-interacting\\nidentical one dimensi...   \n",
       "1689945    For a maximally entangled eigenstate of a system of two non-interacting\\nidentical one dimensi...   \n",
       "\n",
       "                                                               versions  \\\n",
       "1636693  [{'version': 'v1', 'created': 'Wed, 4 Dec 2002 01:34:01 GMT'}]   \n",
       "1689945  [{'version': 'v1', 'created': 'Wed, 4 Dec 2002 01:34:01 GMT'}]   \n",
       "\n",
       "        update_date           authors_parsed  num_authors     authors_new  \\\n",
       "1636693  2014-03-12  [[Rios, Pedro de M., ]]            1  [riospedrodem]   \n",
       "1689945  2020-08-20  [[Rios, Pedro de M., ]]            1  [riospedrodem]   \n",
       "\n",
       "         abstract_length  \n",
       "1636693               53  \n",
       "1689945               53  "
      ]
     },
     "execution_count": 33,
     "metadata": {},
     "output_type": "execute_result"
    }
   ],
   "source": [
    "data[data.id == 'math-ph/0212014']"
   ]
  },
  {
   "cell_type": "code",
   "execution_count": 34,
   "metadata": {},
   "outputs": [
    {
     "data": {
      "text/html": [
       "<div>\n",
       "<style scoped>\n",
       "    .dataframe tbody tr th:only-of-type {\n",
       "        vertical-align: middle;\n",
       "    }\n",
       "\n",
       "    .dataframe tbody tr th {\n",
       "        vertical-align: top;\n",
       "    }\n",
       "\n",
       "    .dataframe thead th {\n",
       "        text-align: right;\n",
       "    }\n",
       "</style>\n",
       "<table border=\"1\" class=\"dataframe\">\n",
       "  <thead>\n",
       "    <tr style=\"text-align: right;\">\n",
       "      <th></th>\n",
       "      <th>id</th>\n",
       "      <th>submitter</th>\n",
       "      <th>authors</th>\n",
       "      <th>title</th>\n",
       "      <th>comments</th>\n",
       "      <th>journal-ref</th>\n",
       "      <th>doi</th>\n",
       "      <th>report-no</th>\n",
       "      <th>categories</th>\n",
       "      <th>license</th>\n",
       "      <th>abstract</th>\n",
       "      <th>versions</th>\n",
       "      <th>update_date</th>\n",
       "      <th>authors_parsed</th>\n",
       "      <th>num_authors</th>\n",
       "      <th>authors_new</th>\n",
       "      <th>abstract_length</th>\n",
       "    </tr>\n",
       "  </thead>\n",
       "  <tbody>\n",
       "    <tr>\n",
       "      <th>1638090</th>\n",
       "      <td>math-ph/0409039</td>\n",
       "      <td>Robert Littlejohn</td>\n",
       "      <td>Matthew Cargo, Alfonso Gracia-Saz, R. G. Littlejohn, M. W. Reinsch and\\n  P. de M. Rios</td>\n",
       "      <td>Moyal star product approach to the Bohr-Sommerfeld approximation</td>\n",
       "      <td>27 pages, no figures</td>\n",
       "      <td>J. Phys. A, 38 (2005) 1977-2004 [revised version, changed title]</td>\n",
       "      <td>10.1088/0305-4470/38/9/010</td>\n",
       "      <td>None</td>\n",
       "      <td>math-ph math.MP</td>\n",
       "      <td>None</td>\n",
       "      <td>The Bohr-Sommerfeld approximation to the eigenvalues of a one-dimensional\\nquantum Hamiltonian...</td>\n",
       "      <td>[{'version': 'v1', 'created': 'Fri, 17 Sep 2004 21:35:01 GMT'}]</td>\n",
       "      <td>2015-06-26</td>\n",
       "      <td>[[Cargo, Matthew, ], [Gracia-Saz, Alfonso, ], [Littlejohn, R. G., ], [Reinsch, M. W., ], [Rios, ...</td>\n",
       "      <td>5</td>\n",
       "      <td>[cargomatthew, graciasazalfonso, littlejohnrg, reinschmw, riospdem]</td>\n",
       "      <td>106</td>\n",
       "    </tr>\n",
       "    <tr>\n",
       "      <th>1689947</th>\n",
       "      <td>math-ph/0409039</td>\n",
       "      <td>Robert Littlejohn</td>\n",
       "      <td>Matthew Cargo, Alfonso Gracia-Saz, R. G. Littlejohn, M. W. Reinsch and\\n  P. de M. Rios</td>\n",
       "      <td>Moyal star product approach to the Bohr-Sommerfeld approximation</td>\n",
       "      <td>27 pages, no figures</td>\n",
       "      <td>J. Phys. A, 38 (2005) 1977-2004 [revised version, changed title]</td>\n",
       "      <td>10.1088/0305-4470/38/9/010</td>\n",
       "      <td>None</td>\n",
       "      <td>math-ph math.MP math.SG</td>\n",
       "      <td>None</td>\n",
       "      <td>The Bohr-Sommerfeld approximation to the eigenvalues of a one-dimensional\\nquantum Hamiltonian...</td>\n",
       "      <td>[{'version': 'v1', 'created': 'Fri, 17 Sep 2004 21:35:01 GMT'}]</td>\n",
       "      <td>2020-08-18</td>\n",
       "      <td>[[Cargo, Matthew, ], [Gracia-Saz, Alfonso, ], [Littlejohn, R. G., ], [Reinsch, M. W., ], [Rios, ...</td>\n",
       "      <td>5</td>\n",
       "      <td>[cargomatthew, graciasazalfonso, littlejohnrg, reinschmw, riospdem]</td>\n",
       "      <td>106</td>\n",
       "    </tr>\n",
       "  </tbody>\n",
       "</table>\n",
       "</div>"
      ],
      "text/plain": [
       "                      id          submitter  \\\n",
       "1638090  math-ph/0409039  Robert Littlejohn   \n",
       "1689947  math-ph/0409039  Robert Littlejohn   \n",
       "\n",
       "                                                                                         authors  \\\n",
       "1638090  Matthew Cargo, Alfonso Gracia-Saz, R. G. Littlejohn, M. W. Reinsch and\\n  P. de M. Rios   \n",
       "1689947  Matthew Cargo, Alfonso Gracia-Saz, R. G. Littlejohn, M. W. Reinsch and\\n  P. de M. Rios   \n",
       "\n",
       "                                                                    title  \\\n",
       "1638090  Moyal star product approach to the Bohr-Sommerfeld approximation   \n",
       "1689947  Moyal star product approach to the Bohr-Sommerfeld approximation   \n",
       "\n",
       "                     comments  \\\n",
       "1638090  27 pages, no figures   \n",
       "1689947  27 pages, no figures   \n",
       "\n",
       "                                                              journal-ref  \\\n",
       "1638090  J. Phys. A, 38 (2005) 1977-2004 [revised version, changed title]   \n",
       "1689947  J. Phys. A, 38 (2005) 1977-2004 [revised version, changed title]   \n",
       "\n",
       "                                doi report-no               categories  \\\n",
       "1638090  10.1088/0305-4470/38/9/010      None          math-ph math.MP   \n",
       "1689947  10.1088/0305-4470/38/9/010      None  math-ph math.MP math.SG   \n",
       "\n",
       "        license  \\\n",
       "1638090    None   \n",
       "1689947    None   \n",
       "\n",
       "                                                                                                    abstract  \\\n",
       "1638090    The Bohr-Sommerfeld approximation to the eigenvalues of a one-dimensional\\nquantum Hamiltonian...   \n",
       "1689947    The Bohr-Sommerfeld approximation to the eigenvalues of a one-dimensional\\nquantum Hamiltonian...   \n",
       "\n",
       "                                                                versions  \\\n",
       "1638090  [{'version': 'v1', 'created': 'Fri, 17 Sep 2004 21:35:01 GMT'}]   \n",
       "1689947  [{'version': 'v1', 'created': 'Fri, 17 Sep 2004 21:35:01 GMT'}]   \n",
       "\n",
       "        update_date  \\\n",
       "1638090  2015-06-26   \n",
       "1689947  2020-08-18   \n",
       "\n",
       "                                                                                              authors_parsed  \\\n",
       "1638090  [[Cargo, Matthew, ], [Gracia-Saz, Alfonso, ], [Littlejohn, R. G., ], [Reinsch, M. W., ], [Rios, ...   \n",
       "1689947  [[Cargo, Matthew, ], [Gracia-Saz, Alfonso, ], [Littlejohn, R. G., ], [Reinsch, M. W., ], [Rios, ...   \n",
       "\n",
       "         num_authors  \\\n",
       "1638090            5   \n",
       "1689947            5   \n",
       "\n",
       "                                                                 authors_new  \\\n",
       "1638090  [cargomatthew, graciasazalfonso, littlejohnrg, reinschmw, riospdem]   \n",
       "1689947  [cargomatthew, graciasazalfonso, littlejohnrg, reinschmw, riospdem]   \n",
       "\n",
       "         abstract_length  \n",
       "1638090              106  \n",
       "1689947              106  "
      ]
     },
     "execution_count": 34,
     "metadata": {},
     "output_type": "execute_result"
    }
   ],
   "source": [
    "data[data.id == 'math-ph/0409039']"
   ]
  },
  {
   "cell_type": "code",
   "execution_count": 35,
   "metadata": {},
   "outputs": [
    {
     "data": {
      "text/html": [
       "<div>\n",
       "<style scoped>\n",
       "    .dataframe tbody tr th:only-of-type {\n",
       "        vertical-align: middle;\n",
       "    }\n",
       "\n",
       "    .dataframe tbody tr th {\n",
       "        vertical-align: top;\n",
       "    }\n",
       "\n",
       "    .dataframe thead th {\n",
       "        text-align: right;\n",
       "    }\n",
       "</style>\n",
       "<table border=\"1\" class=\"dataframe\">\n",
       "  <thead>\n",
       "    <tr style=\"text-align: right;\">\n",
       "      <th></th>\n",
       "      <th>id</th>\n",
       "      <th>submitter</th>\n",
       "      <th>authors</th>\n",
       "      <th>title</th>\n",
       "      <th>comments</th>\n",
       "      <th>journal-ref</th>\n",
       "      <th>doi</th>\n",
       "      <th>report-no</th>\n",
       "      <th>categories</th>\n",
       "      <th>license</th>\n",
       "      <th>abstract</th>\n",
       "      <th>versions</th>\n",
       "      <th>update_date</th>\n",
       "      <th>authors_parsed</th>\n",
       "      <th>num_authors</th>\n",
       "      <th>authors_new</th>\n",
       "      <th>abstract_length</th>\n",
       "    </tr>\n",
       "  </thead>\n",
       "  <tbody>\n",
       "    <tr>\n",
       "      <th>1637995</th>\n",
       "      <td>math-ph/0408005</td>\n",
       "      <td>Kurt Ehlers</td>\n",
       "      <td>Kurt Ehlers, Jair Koiller, Richard Montgomery, Pedro M. Rios</td>\n",
       "      <td>Nonholonomic systems via moving frames: Cartan equivalence and Chaplygin\\n  Hamiltonization</td>\n",
       "      <td>Dedicated to Alan Weinstein on his 60th birthday, 39 pages</td>\n",
       "      <td>Progress in Mathematics 232 (2005) 75-120 [revised version]</td>\n",
       "      <td>None</td>\n",
       "      <td>None</td>\n",
       "      <td>math-ph math.MP</td>\n",
       "      <td>None</td>\n",
       "      <td>A nonholonomic system consists of a configuration space Q, a Lagrangian L,\\nand an nonintegrab...</td>\n",
       "      <td>[{'version': 'v1', 'created': 'Mon, 2 Aug 2004 17:43:10 GMT'}]</td>\n",
       "      <td>2014-03-13</td>\n",
       "      <td>[[Ehlers, Kurt, ], [Koiller, Jair, ], [Montgomery, Richard, ], [Rios, Pedro M., ]]</td>\n",
       "      <td>4</td>\n",
       "      <td>[ehlerskurt, koillerjair, montgomeryrichard, riospedrom]</td>\n",
       "      <td>205</td>\n",
       "    </tr>\n",
       "    <tr>\n",
       "      <th>1689946</th>\n",
       "      <td>math-ph/0408005</td>\n",
       "      <td>Kurt Ehlers</td>\n",
       "      <td>Kurt Ehlers, Jair Koiller, Richard Montgomery, Pedro M. Rios</td>\n",
       "      <td>Nonholonomic systems via moving frames: Cartan equivalence and Chaplygin\\n  Hamiltonization</td>\n",
       "      <td>Dedicated to Alan Weinstein on his 60th birthday, 39 pages</td>\n",
       "      <td>Progress in Mathematics 232 (2005) 75-120 [revised version]</td>\n",
       "      <td>None</td>\n",
       "      <td>None</td>\n",
       "      <td>math-ph math.MP math.SG</td>\n",
       "      <td>None</td>\n",
       "      <td>A nonholonomic system consists of a configuration space Q, a Lagrangian L,\\nand an nonintegrab...</td>\n",
       "      <td>[{'version': 'v1', 'created': 'Mon, 2 Aug 2004 17:43:10 GMT'}]</td>\n",
       "      <td>2020-08-18</td>\n",
       "      <td>[[Ehlers, Kurt, ], [Koiller, Jair, ], [Montgomery, Richard, ], [Rios, Pedro M., ]]</td>\n",
       "      <td>4</td>\n",
       "      <td>[ehlerskurt, koillerjair, montgomeryrichard, riospedrom]</td>\n",
       "      <td>205</td>\n",
       "    </tr>\n",
       "  </tbody>\n",
       "</table>\n",
       "</div>"
      ],
      "text/plain": [
       "                      id    submitter  \\\n",
       "1637995  math-ph/0408005  Kurt Ehlers   \n",
       "1689946  math-ph/0408005  Kurt Ehlers   \n",
       "\n",
       "                                                              authors  \\\n",
       "1637995  Kurt Ehlers, Jair Koiller, Richard Montgomery, Pedro M. Rios   \n",
       "1689946  Kurt Ehlers, Jair Koiller, Richard Montgomery, Pedro M. Rios   \n",
       "\n",
       "                                                                                               title  \\\n",
       "1637995  Nonholonomic systems via moving frames: Cartan equivalence and Chaplygin\\n  Hamiltonization   \n",
       "1689946  Nonholonomic systems via moving frames: Cartan equivalence and Chaplygin\\n  Hamiltonization   \n",
       "\n",
       "                                                           comments  \\\n",
       "1637995  Dedicated to Alan Weinstein on his 60th birthday, 39 pages   \n",
       "1689946  Dedicated to Alan Weinstein on his 60th birthday, 39 pages   \n",
       "\n",
       "                                                         journal-ref   doi  \\\n",
       "1637995  Progress in Mathematics 232 (2005) 75-120 [revised version]  None   \n",
       "1689946  Progress in Mathematics 232 (2005) 75-120 [revised version]  None   \n",
       "\n",
       "        report-no               categories license  \\\n",
       "1637995      None          math-ph math.MP    None   \n",
       "1689946      None  math-ph math.MP math.SG    None   \n",
       "\n",
       "                                                                                                    abstract  \\\n",
       "1637995    A nonholonomic system consists of a configuration space Q, a Lagrangian L,\\nand an nonintegrab...   \n",
       "1689946    A nonholonomic system consists of a configuration space Q, a Lagrangian L,\\nand an nonintegrab...   \n",
       "\n",
       "                                                               versions  \\\n",
       "1637995  [{'version': 'v1', 'created': 'Mon, 2 Aug 2004 17:43:10 GMT'}]   \n",
       "1689946  [{'version': 'v1', 'created': 'Mon, 2 Aug 2004 17:43:10 GMT'}]   \n",
       "\n",
       "        update_date  \\\n",
       "1637995  2014-03-13   \n",
       "1689946  2020-08-18   \n",
       "\n",
       "                                                                             authors_parsed  \\\n",
       "1637995  [[Ehlers, Kurt, ], [Koiller, Jair, ], [Montgomery, Richard, ], [Rios, Pedro M., ]]   \n",
       "1689946  [[Ehlers, Kurt, ], [Koiller, Jair, ], [Montgomery, Richard, ], [Rios, Pedro M., ]]   \n",
       "\n",
       "         num_authors  \\\n",
       "1637995            4   \n",
       "1689946            4   \n",
       "\n",
       "                                                      authors_new  \\\n",
       "1637995  [ehlerskurt, koillerjair, montgomeryrichard, riospedrom]   \n",
       "1689946  [ehlerskurt, koillerjair, montgomeryrichard, riospedrom]   \n",
       "\n",
       "         abstract_length  \n",
       "1637995              205  \n",
       "1689946              205  "
      ]
     },
     "execution_count": 35,
     "metadata": {},
     "output_type": "execute_result"
    }
   ],
   "source": [
    "data[data.id == 'math-ph/0408005']"
   ]
  },
  {
   "cell_type": "markdown",
   "metadata": {},
   "source": [
    "In general the database has been maintained such that there are no duplicate papers. However, each of the three above papers (with Pedro de M. Rios as the common author between all three) was submitted again as a seperate paper rather than as an update to the original. The only visible changes in the resubmissions was to add the category math.SG (Sympletic Geometry) to the paper's list of categories. In respect of P. de M. Rios' wishes, we will delete the first instance of each paper, leaving the instance with updated categories intact."
   ]
  },
  {
   "cell_type": "code",
   "execution_count": 36,
   "metadata": {},
   "outputs": [],
   "source": [
    "data = data.drop([1636693, 1638090, 1637995])"
   ]
  },
  {
   "cell_type": "markdown",
   "metadata": {},
   "source": [
    "## Create Author Table"
   ]
  },
  {
   "cell_type": "code",
   "execution_count": 37,
   "metadata": {},
   "outputs": [],
   "source": [
    "authors_array = np.array([data.id, data.authors_new]).T"
   ]
  },
  {
   "cell_type": "code",
   "execution_count": 38,
   "metadata": {},
   "outputs": [],
   "source": [
    "authors_dict = {}\n",
    "for article in authors_array:\n",
    "    ID = article[0]\n",
    "    for author in article[1]:\n",
    "        if author in authors_dict.keys():\n",
    "            authors_dict[author].append(ID)\n",
    "            \n",
    "        else:\n",
    "            authors_dict[author] = [ID]"
   ]
  },
  {
   "cell_type": "code",
   "execution_count": 39,
   "metadata": {},
   "outputs": [],
   "source": [
    "authors_data = pd.DataFrame()\n",
    "authors_data['Authors'] = authors_dict.keys()\n",
    "authors_data['Articles'] = authors_dict.values()"
   ]
  },
  {
   "cell_type": "code",
   "execution_count": 40,
   "metadata": {},
   "outputs": [],
   "source": [
    "authors_data['Num_Articles'] = [len(articles) for articles in authors_data.Articles]"
   ]
  },
  {
   "cell_type": "code",
   "execution_count": 41,
   "metadata": {},
   "outputs": [
    {
     "data": {
      "text/html": [
       "<div>\n",
       "<style scoped>\n",
       "    .dataframe tbody tr th:only-of-type {\n",
       "        vertical-align: middle;\n",
       "    }\n",
       "\n",
       "    .dataframe tbody tr th {\n",
       "        vertical-align: top;\n",
       "    }\n",
       "\n",
       "    .dataframe thead th {\n",
       "        text-align: right;\n",
       "    }\n",
       "</style>\n",
       "<table border=\"1\" class=\"dataframe\">\n",
       "  <thead>\n",
       "    <tr style=\"text-align: right;\">\n",
       "      <th></th>\n",
       "      <th>Authors</th>\n",
       "      <th>Articles</th>\n",
       "      <th>Num_Articles</th>\n",
       "    </tr>\n",
       "  </thead>\n",
       "  <tbody>\n",
       "    <tr>\n",
       "      <th>0</th>\n",
       "      <td>balzsc</td>\n",
       "      <td>[0704.0001, 0905.4302, 1203.1488, 1608.07538, hep-ph/0311123, hep-ph/0406152]</td>\n",
       "      <td>6</td>\n",
       "    </tr>\n",
       "    <tr>\n",
       "      <th>1</th>\n",
       "      <td>bergerel</td>\n",
       "      <td>[0704.0001, 1111.0469, hep-ph/0001127, hep-ph/0003033, hep-ph/0003211, hep-ph/0005025, hep-ph/00...</td>\n",
       "      <td>27</td>\n",
       "    </tr>\n",
       "    <tr>\n",
       "      <th>2</th>\n",
       "      <td>nadolskypm</td>\n",
       "      <td>[0704.0001, 0705.3251, 0802.0007, 0904.2424, 0909.4970, 1203.6803, 1605.04692, hep-ph/0012261, h...</td>\n",
       "      <td>21</td>\n",
       "    </tr>\n",
       "    <tr>\n",
       "      <th>3</th>\n",
       "      <td>yuancp</td>\n",
       "      <td>[0704.0001, 0704.2809, 0705.3251, 0707.0275, 0707.0320, 0711.3881, 0801.2998, 0802.0007, 0803.06...</td>\n",
       "      <td>220</td>\n",
       "    </tr>\n",
       "    <tr>\n",
       "      <th>4</th>\n",
       "      <td>streinuileana</td>\n",
       "      <td>[0704.0002, 0704.3843, 0711.2838, 0711.3013, 0712.0031, 0812.1373, 0812.1375, 1003.3490, 1006.11...</td>\n",
       "      <td>31</td>\n",
       "    </tr>\n",
       "    <tr>\n",
       "      <th>5</th>\n",
       "      <td>theranlouis</td>\n",
       "      <td>[0704.0002, 0704.3843, 0711.2838, 0711.3013, 0712.0031, 0812.0872, 1008.1837, 1008.3710, 1010.13...</td>\n",
       "      <td>43</td>\n",
       "    </tr>\n",
       "    <tr>\n",
       "      <th>6</th>\n",
       "      <td>panhongjun</td>\n",
       "      <td>[0704.0003, 0704.1044]</td>\n",
       "      <td>2</td>\n",
       "    </tr>\n",
       "    <tr>\n",
       "      <th>7</th>\n",
       "      <td>callandavid</td>\n",
       "      <td>[0704.0004, 0708.3301, 0711.2684, 0711.4841, 0712.3946, 0802.2275, 0808.3614, 0810.4901, 0812.47...</td>\n",
       "      <td>61</td>\n",
       "    </tr>\n",
       "    <tr>\n",
       "      <th>8</th>\n",
       "      <td>abushammalawael</td>\n",
       "      <td>[0704.0005, 0704.0054, math/0510280, math/0511207]</td>\n",
       "      <td>4</td>\n",
       "    </tr>\n",
       "    <tr>\n",
       "      <th>9</th>\n",
       "      <td>torchinskyalberto</td>\n",
       "      <td>[0704.0005, 0704.0054, 0904.3252, 1207.2710, 1208.6184, 1308.1134, 1310.2139, 1812.09265, 1904.0...</td>\n",
       "      <td>14</td>\n",
       "    </tr>\n",
       "  </tbody>\n",
       "</table>\n",
       "</div>"
      ],
      "text/plain": [
       "             Authors  \\\n",
       "0             balzsc   \n",
       "1           bergerel   \n",
       "2         nadolskypm   \n",
       "3             yuancp   \n",
       "4      streinuileana   \n",
       "5        theranlouis   \n",
       "6         panhongjun   \n",
       "7        callandavid   \n",
       "8    abushammalawael   \n",
       "9  torchinskyalberto   \n",
       "\n",
       "                                                                                              Articles  \\\n",
       "0                        [0704.0001, 0905.4302, 1203.1488, 1608.07538, hep-ph/0311123, hep-ph/0406152]   \n",
       "1  [0704.0001, 1111.0469, hep-ph/0001127, hep-ph/0003033, hep-ph/0003211, hep-ph/0005025, hep-ph/00...   \n",
       "2  [0704.0001, 0705.3251, 0802.0007, 0904.2424, 0909.4970, 1203.6803, 1605.04692, hep-ph/0012261, h...   \n",
       "3  [0704.0001, 0704.2809, 0705.3251, 0707.0275, 0707.0320, 0711.3881, 0801.2998, 0802.0007, 0803.06...   \n",
       "4  [0704.0002, 0704.3843, 0711.2838, 0711.3013, 0712.0031, 0812.1373, 0812.1375, 1003.3490, 1006.11...   \n",
       "5  [0704.0002, 0704.3843, 0711.2838, 0711.3013, 0712.0031, 0812.0872, 1008.1837, 1008.3710, 1010.13...   \n",
       "6                                                                               [0704.0003, 0704.1044]   \n",
       "7  [0704.0004, 0708.3301, 0711.2684, 0711.4841, 0712.3946, 0802.2275, 0808.3614, 0810.4901, 0812.47...   \n",
       "8                                                   [0704.0005, 0704.0054, math/0510280, math/0511207]   \n",
       "9  [0704.0005, 0704.0054, 0904.3252, 1207.2710, 1208.6184, 1308.1134, 1310.2139, 1812.09265, 1904.0...   \n",
       "\n",
       "   Num_Articles  \n",
       "0             6  \n",
       "1            27  \n",
       "2            21  \n",
       "3           220  \n",
       "4            31  \n",
       "5            43  \n",
       "6             2  \n",
       "7            61  \n",
       "8             4  \n",
       "9            14  "
      ]
     },
     "execution_count": 41,
     "metadata": {},
     "output_type": "execute_result"
    }
   ],
   "source": [
    "authors_data.head(10)"
   ]
  },
  {
   "cell_type": "code",
   "execution_count": 97,
   "metadata": {},
   "outputs": [],
   "source": [
    "def similarity_by_author(IDs):\n",
    "    related = pd.DataFrame()\n",
    "    \n",
    "    for ID in IDs:\n",
    "        \n",
    "        articles_df = pd.DataFrame()\n",
    "        articles_list = []\n",
    "        original_article = data[data.id == ID]\n",
    "        A_0 = int(original_article.num_authors)\n",
    "        authors = list(original_article.authors_new)[0]\n",
    "        \n",
    "        for author in authors:\n",
    "            \n",
    "            author_row = authors_data[authors_data.Authors == author]\n",
    "            articles_list += list(author_row.Articles)[0]\n",
    "        \n",
    "        articles_dict = dict((x, articles_list.count(x)) for x in articles_list)\n",
    "        articles_df['id'] = articles_dict.keys()\n",
    "        articles_df['common_authors'] = articles_dict.values()\n",
    "        articles_df.sort_values(by = 'id', inplace = True)\n",
    "        articles_df['possible_common_authors'] = [min(A, A_0) for A in data[data['id'].isin(articles_df.id)].num_authors]\n",
    "        related = pd.concat([related, articles_df])\n",
    "\n",
    "    related = related.groupby(by = ['id']).sum()\n",
    "    related.drop(IDs, inplace = True)\n",
    "    related['score'] = related['common_authors']**2 / related['possible_common_authors']\n",
    "    related.sort_values(by = 'score', inplace = True, ascending = False)\n",
    "    return related"
   ]
  },
  {
   "cell_type": "code",
   "execution_count": 164,
   "metadata": {},
   "outputs": [],
   "source": [
    "def deep_similarity_by_author(starting_IDs, dos):\n",
    "    #d.o.s => degrees of seperation\n",
    "    IDs = starting_IDs\n",
    "    related = {}\n",
    "    for i in range(dos):\n",
    "        related_df = similarity_by_author(IDs)\n",
    "        new_IDs = list(related_df.index)\n",
    "        if len(new_IDs) == 0:\n",
    "            print('No Related Articles After {0} Degree(s) of Seperation'.format(i))\n",
    "            break\n",
    "        IDs = list(set(IDs + new_IDs))\n",
    "        related['depth ' + str(i + 1)] = related_df\n",
    "        \n",
    "    return related"
   ]
  },
  {
   "cell_type": "code",
   "execution_count": 195,
   "metadata": {},
   "outputs": [],
   "source": [
    "import time\n",
    "test = list(data['id'].sample(n = 500, random_state = 42))\n",
    "scores = []"
   ]
  },
  {
   "cell_type": "code",
   "execution_count": 196,
   "metadata": {},
   "outputs": [
    {
     "name": "stdout",
     "output_type": "stream",
     "text": [
      "241.96330070495605\n"
     ]
    }
   ],
   "source": [
    "start = time.time()\n",
    "for article in test:\n",
    "    scores += list(similarity_by_author([article]).score)\n",
    "    \n",
    "end = time.time()\n",
    "print(end - start)"
   ]
  },
  {
   "cell_type": "code",
   "execution_count": 210,
   "metadata": {},
   "outputs": [
    {
     "name": "stdout",
     "output_type": "stream",
     "text": [
      "(59723,)\n",
      "(57554,)\n"
     ]
    }
   ],
   "source": [
    "scores_array= np.array(scores)\n",
    "print(scores_array.shape)\n",
    "scores_no_outliers = scores_array[scores_array <= (scores_array.mean() + 2*scores_array.std())]\n",
    "print(scores_no_outliers.shape)"
   ]
  },
  {
   "cell_type": "code",
   "execution_count": 212,
   "metadata": {},
   "outputs": [
    {
     "data": {
      "image/png": "[encoded data removed]",
      "text/plain": [
       "<Figure size 432x288 with 1 Axes>"
      ]
     },
     "metadata": {
      "needs_background": "light"
     },
     "output_type": "display_data"
    }
   ],
   "source": [
    "plt.hist(scores_no_outliers, bins = 25)\n",
    "plt.show()"
   ]
  },
  {
   "cell_type": "markdown",
   "metadata": {},
   "source": [
    "We see that with a test sample of 500 articles, we find nearly 60,000 articles with author similarity. As the above histogram shows, 95% of these results fall between 0 and 2. This test was done one article at a time. When multiple articles are passed to the function simultanteously, the spread will increase as the total number of possible authors the articles could have in common increases. It should be noted that the function as it stands now simply sums the authors in common and the number of possible authors in common. This means that the score is not affected by the way in which the authors are distributed, i.e. if all authors are in common with a single article, this will result in the same score as if these authors were distributed over all articles."
   ]
  },
  {
   "cell_type": "markdown",
   "metadata": {},
   "source": [
    "## Store Data and Functions for Later"
   ]
  },
  {
   "cell_type": "code",
   "execution_count": 214,
   "metadata": {},
   "outputs": [],
   "source": [
    "data.to_pickle('ArXiv/articles.pkl')\n",
    "authors_data.to_pickle('ArXiv/authors.pkl')"
   ]
  },
  {
   "cell_type": "code",
   "execution_count": 2,
   "metadata": {},
   "outputs": [],
   "source": [
    "article_data = pd.read_pickle('ArXiv/articles.pkl')\n",
    "authors_data = pd.read_pickle('ArXiv/authors.pkl')"
   ]
  },
  {
   "cell_type": "code",
   "execution_count": 19,
   "metadata": {},
   "outputs": [
    {
     "data": {
      "text/plain": [
       "<module 'similarity' from '/notebooks/similarity.py'>"
      ]
     },
     "execution_count": 19,
     "metadata": {},
     "output_type": "execute_result"
    }
   ],
   "source": [
    "import similarity as sm\n",
    "import imp\n",
    "imp.reload(sm)"
   ]
  },
  {
   "cell_type": "code",
   "execution_count": 20,
   "metadata": {},
   "outputs": [
    {
     "data": {
      "text/html": [
       "<div>\n",
       "<style scoped>\n",
       "    .dataframe tbody tr th:only-of-type {\n",
       "        vertical-align: middle;\n",
       "    }\n",
       "\n",
       "    .dataframe tbody tr th {\n",
       "        vertical-align: top;\n",
       "    }\n",
       "\n",
       "    .dataframe thead th {\n",
       "        text-align: right;\n",
       "    }\n",
       "</style>\n",
       "<table border=\"1\" class=\"dataframe\">\n",
       "  <thead>\n",
       "    <tr style=\"text-align: right;\">\n",
       "      <th></th>\n",
       "      <th>common_authors</th>\n",
       "      <th>possible_common_authors</th>\n",
       "      <th>score</th>\n",
       "    </tr>\n",
       "    <tr>\n",
       "      <th>id</th>\n",
       "      <th></th>\n",
       "      <th></th>\n",
       "      <th></th>\n",
       "    </tr>\n",
       "  </thead>\n",
       "  <tbody>\n",
       "    <tr>\n",
       "      <th>0704.1044</th>\n",
       "      <td>1</td>\n",
       "      <td>1</td>\n",
       "      <td>1.0</td>\n",
       "    </tr>\n",
       "  </tbody>\n",
       "</table>\n",
       "</div>"
      ],
      "text/plain": [
       "           common_authors  possible_common_authors  score\n",
       "id                                                       \n",
       "0704.1044               1                        1    1.0"
      ]
     },
     "execution_count": 20,
     "metadata": {},
     "output_type": "execute_result"
    }
   ],
   "source": [
    "sm.similarity_by_author(['0704.0003'], article_data = article_data, authors_data = authors_data)"
   ]
  },
  {
   "cell_type": "code",
   "execution_count": null,
   "metadata": {},
   "outputs": [],
   "source": []
  }
 ],
 "metadata": {
  "kernelspec": {
   "display_name": "Python 3",
   "language": "python",
   "name": "python3"
  },
  "language_info": {
   "codemirror_mode": {
    "name": "ipython",
    "version": 3
   },
   "file_extension": ".py",
   "mimetype": "text/x-python",
   "name": "python",
   "nbconvert_exporter": "python",
   "pygments_lexer": "ipython3",
   "version": "3.6.8"
  }
 },
 "nbformat": 4,
 "nbformat_minor": 4
}
